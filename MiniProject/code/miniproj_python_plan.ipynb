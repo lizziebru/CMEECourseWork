{
 "cells": [
  {
   "cell_type": "markdown",
   "id": "ee7f4276",
   "metadata": {},
   "source": [
    "DATA PREPARATION SCRIPT"
   ]
  },
  {
   "cell_type": "markdown",
   "id": "64d8cce5",
   "metadata": {},
   "source": [
    "need to import data and prepare it for model fitting"
   ]
  },
  {
   "cell_type": "markdown",
   "id": "fd7366bd",
   "metadata": {},
   "source": [
    "1. create unique IDs so that you can identify unique datasets (e.g. single thermal responses or functional responses)"
   ]
  },
  {
   "cell_type": "markdown",
   "id": "9b1e6138",
   "metadata": {},
   "source": [
    "2. deal with missing and other problematic data values"
   ]
  },
  {
   "cell_type": "markdown",
   "id": "5c833fdd",
   "metadata": {},
   "source": [
    "3. save the modified fata to one or more csv files"
   ]
  },
  {
   "cell_type": "code",
   "execution_count": 7,
   "id": "5d44fb65",
   "metadata": {},
   "outputs": [],
   "source": [
    "import pandas as pd\n",
    "import scipy as sc\n",
    "import matplotlib.pylab as pl\n",
    "import seaborn as sns"
   ]
  },
  {
   "cell_type": "code",
   "execution_count": null,
   "id": "7e4bcc93",
   "metadata": {},
   "outputs": [],
   "source": [
    "data = pd.read_csv()"
   ]
  },
  {
   "cell_type": "code",
   "execution_count": null,
   "id": "ac1fdb59",
   "metadata": {},
   "outputs": [],
   "source": []
  },
  {
   "cell_type": "code",
   "execution_count": null,
   "id": "af61ae04",
   "metadata": {},
   "outputs": [],
   "source": []
  },
  {
   "cell_type": "code",
   "execution_count": null,
   "id": "2f6cfc4a",
   "metadata": {},
   "outputs": [],
   "source": []
  },
  {
   "cell_type": "markdown",
   "id": "5e230b78",
   "metadata": {},
   "source": [
    "MODEL FITTING SCRIPT"
   ]
  }
 ],
 "metadata": {
  "kernelspec": {
   "display_name": "Python 3 (ipykernel)",
   "language": "python",
   "name": "python3"
  },
  "language_info": {
   "codemirror_mode": {
    "name": "ipython",
    "version": 3
   },
   "file_extension": ".py",
   "mimetype": "text/x-python",
   "name": "python",
   "nbconvert_exporter": "python",
   "pygments_lexer": "ipython3",
   "version": "3.8.10"
  }
 },
 "nbformat": 4,
 "nbformat_minor": 5
}
