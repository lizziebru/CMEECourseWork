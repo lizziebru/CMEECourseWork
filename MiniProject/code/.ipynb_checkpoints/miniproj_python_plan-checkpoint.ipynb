{
 "cells": [
  {
   "cell_type": "markdown",
   "id": "41392182",
   "metadata": {},
   "source": [
    "MODEL FITTING SCRIPT"
   ]
  },
  {
   "cell_type": "code",
   "execution_count": null,
   "id": "6e7e18a0",
   "metadata": {},
   "outputs": [],
   "source": [
    "# need to decide which models to try to fit\n",
    "\n",
    "# easy linear models:\n",
    "\n",
    "# harder non-linear models:\n",
    "# need to think about starting parameters, boundaries for starting parameters etc\n",
    "\n",
    "# could use multiple different comparison criteria to compare between diff models\n",
    "\n",
    "# use least squares\n",
    "\n",
    "# model selection is key\n"
   ]
  },
  {
   "cell_type": "code",
   "execution_count": 58,
   "id": "fdf8c06f",
   "metadata": {},
   "outputs": [],
   "source": [
    "# use the Lmfit package\n",
    "from lmfit import Minimizer, Parameters, report_fit\n",
    "import numpy as np\n",
    "import matplotlib.pylab as plt"
   ]
  },
  {
   "cell_type": "code",
   "execution_count": 59,
   "id": "01ede0a3",
   "metadata": {},
   "outputs": [
    {
     "name": "stdout",
     "output_type": "stream",
     "text": [
      "Loaded 13 columns.\n"
     ]
    }
   ],
   "source": [
    "# read in latest data\n",
    "data = pd.read_csv(\"../data/LogisticGrowthData2.csv\")\n",
    "print(\"Loaded {} columns.\".format(len(data.columns.values)))"
   ]
  },
  {
   "cell_type": "code",
   "execution_count": 60,
   "id": "bc015b13",
   "metadata": {},
   "outputs": [],
   "source": [
    "# start by fitting simple linear cubic polynomial model (using NLLS)\n",
    "#Create object for storing parameters\n",
    "params_model = Parameters()\n",
    "\n",
    "#Add parameters and initial values to it\n",
    "params_model.add('a', value = 1)\n",
    "params_model.add('b', value = 1)\n",
    "params_model.add('c', value = 1)\n",
    "params_model.add('d', value = 1)"
   ]
  },
  {
   "cell_type": "code",
   "execution_count": 61,
   "id": "e0206e4f",
   "metadata": {},
   "outputs": [],
   "source": [
    "# choosing parameter starting values:\n",
    "\n",
    "##-- choose appropriate ones by eyballing the dataset\n",
    "\n",
    "## important bc innapropriate starting values can cause algorithm to find parameter combinations representing convergence to a local optimum soln\n",
    "\n",
    "# choosing bounding parameter values:\n",
    "\n",
    "##-- preventing them from exceeding soem min/max value during the NLLS fitting process\n",
    "##-- means can find the soln with fewer iterations\n",
    "##-- BUT: if you bound too much (too narrow range): algorithm can't search sufficient parameter space and will fail to converge on a good soln\n",
    "\n",
    "## need to understand meaning of parameters in model\n",
    "\n"
   ]
  },
  {
   "cell_type": "code",
   "execution_count": 62,
   "id": "bfa669eb",
   "metadata": {},
   "outputs": [],
   "source": [
    "#Write down the objective function that we want to minimize, i.e., the residuals \n",
    "def residuals_model(params, x, y): # doesn't matter what these are called\n",
    "    \"\"\"Calculate y-values based on model and subtract y-values based on data\"\"\"\n",
    "    \n",
    "    #Get an ordered dictionary of parameter values\n",
    "    v = params.valuesdict()\n",
    "    \n",
    "    #Cubic model\n",
    "    model = v['a']*x**3 + v['b']*x**2 + v['c']*x + v['d']\n",
    "\n",
    "    return model - y     #Return residuals"
   ]
  },
  {
   "cell_type": "code",
   "execution_count": 65,
   "id": "83d1c0c6",
   "metadata": {},
   "outputs": [],
   "source": [
    "#Create a Minimizer object\n",
    "minner = Minimizer(residuals_model, params_model, fcn_args=(data[data['ID']==4].Time, data[data['ID']==4].log_PopBio))\n",
    "\n",
    "#Perform the minimization\n",
    "fit_model_NLLS = minner.minimize()"
   ]
  },
  {
   "cell_type": "code",
   "execution_count": 66,
   "id": "cbd77c22",
   "metadata": {},
   "outputs": [
    {
     "name": "stdout",
     "output_type": "stream",
     "text": [
      "[[Fit Statistics]]\n",
      "    # fitting method   = leastsq\n",
      "    # function evals   = 15\n",
      "    # data points      = 14\n",
      "    # variables        = 4\n",
      "    chi-square         = 1.53661452\n",
      "    reduced chi-square = 0.15366145\n",
      "    Akaike info crit   = -22.9326597\n",
      "    Bayesian info crit = -20.3764304\n",
      "[[Variables]]\n",
      "    a: -7.1174e-07 +/- 1.3485e-07 (18.95%) (init = 1)\n",
      "    b:  2.9737e-04 +/- 6.6907e-05 (22.50%) (init = 1)\n",
      "    c:  2.5226e-04 +/- 0.00920124 (3647.53%) (init = 1)\n",
      "    d: -0.20594755 +/- 0.33376263 (162.06%) (init = 1)\n",
      "[[Correlations]] (unreported correlations are < 0.100)\n",
      "    C(a, b) = -0.984\n",
      "    C(b, c) = -0.962\n",
      "    C(a, c) = 0.903\n",
      "    C(c, d) = -0.802\n",
      "    C(b, d) = 0.653\n",
      "    C(a, d) = -0.561\n"
     ]
    }
   ],
   "source": [
    "# summary of fit:\n",
    "report_fit(fit_model_NLLS)"
   ]
  },
  {
   "cell_type": "code",
   "execution_count": null,
   "id": "9c7d383b",
   "metadata": {},
   "outputs": [],
   "source": [
    "# make decision to use NLLS for all model fitting (could use OLS for fitting linear models)\n",
    "#--> bc diffs between NLLS and OLS are tiny - converge on pretty much same solution (even though NLLS isn't an exact method whereas OLS is)"
   ]
  },
  {
   "cell_type": "code",
   "execution_count": null,
   "id": "948d68fa",
   "metadata": {},
   "outputs": [],
   "source": [
    "# need to make loop this over all the different subsets:"
   ]
  },
  {
   "cell_type": "code",
   "execution_count": null,
   "id": "eae24a48",
   "metadata": {},
   "outputs": [],
   "source": [
    "# problem: typically need to determine starting values specific to each model AND each dataset\n",
    "\n",
    "# need a systematic way of choosing them..."
   ]
  },
  {
   "cell_type": "code",
   "execution_count": null,
   "id": "9ec5d2e9",
   "metadata": {},
   "outputs": [],
   "source": [
    "# then need to rerun fitting attempts multiple times\n",
    "##--> each time sampling each of the starting values randomly \n",
    "##--> increases likelihood of the NLLS optimization algorithm finding a soln and not getting stuck in a local optimum\n",
    "\n",
    "# if have high confidence in mean value of parameter: use gaussian distribution\n",
    "\n",
    "# if have low confidence in mean but higher confidence in range of values that the parameter can take: use uniform distribution\n",
    "\n",
    "# (mean = starting value you inferred from the model and the data)\n",
    "\n",
    "# need to determine range of values to restrict each parameter's samples to:\n",
    "    #--> in both cases: will typically be some subset of the model's parameter bounds\n",
    "## normal distributon: choose a standard deviation parameter\n",
    "## uniform distribution: choose lower and upper bound - usually good to set the bound to be some percent (5-10%) of starting value\n",
    "\n",
    "\n",
    "# number of times to re-run: depends on how 'difficult' the model is and how much computational power you have"
   ]
  },
  {
   "cell_type": "code",
   "execution_count": null,
   "id": "c19eaffe",
   "metadata": {},
   "outputs": [],
   "source": []
  },
  {
   "cell_type": "code",
   "execution_count": null,
   "id": "44596c9c",
   "metadata": {},
   "outputs": [],
   "source": [
    "# bounding parameters:\n",
    "\n",
    "# typically fix these at the level of the model (so the same for all subsets)\n",
    "\n",
    "# e.g. for Gompertz model: can limit the growth rate parameter to never be negative: so bounds are [0,infinity]\n",
    "    # or further restrict to some upper max value too e.g. [0,10]"
   ]
  },
  {
   "cell_type": "code",
   "execution_count": null,
   "id": "7ef6d653",
   "metadata": {},
   "outputs": [],
   "source": []
  },
  {
   "cell_type": "code",
   "execution_count": null,
   "id": "e4a2f483",
   "metadata": {},
   "outputs": [],
   "source": [
    "# first part of loop: choosing starting parameter values"
   ]
  },
  {
   "cell_type": "code",
   "execution_count": null,
   "id": "87b57b82",
   "metadata": {},
   "outputs": [],
   "source": [
    "# ax^3 + bx^2 + cx + d\n",
    "\n",
    "# d: intercept of y\n",
    "# c: intercept of 1st derivative\n",
    "# b: intercept of 2nd derivative divided by 2\n",
    "# a: intercept of 3rd derivative divided by 6"
   ]
  },
  {
   "cell_type": "code",
   "execution_count": null,
   "id": "38e442de",
   "metadata": {},
   "outputs": [],
   "source": []
  },
  {
   "cell_type": "code",
   "execution_count": null,
   "id": "0887a8f3",
   "metadata": {},
   "outputs": [],
   "source": []
  },
  {
   "cell_type": "code",
   "execution_count": null,
   "id": "126a2bbf",
   "metadata": {},
   "outputs": [],
   "source": [
    "# repeat for quadratic"
   ]
  },
  {
   "cell_type": "code",
   "execution_count": null,
   "id": "077dd1cb",
   "metadata": {},
   "outputs": [],
   "source": []
  },
  {
   "cell_type": "code",
   "execution_count": null,
   "id": "03246ee7",
   "metadata": {},
   "outputs": [],
   "source": []
  },
  {
   "cell_type": "code",
   "execution_count": null,
   "id": "77d0943e",
   "metadata": {},
   "outputs": [],
   "source": []
  },
  {
   "cell_type": "code",
   "execution_count": null,
   "id": "bc3db8fc",
   "metadata": {},
   "outputs": [],
   "source": []
  },
  {
   "cell_type": "code",
   "execution_count": 67,
   "id": "91b54825",
   "metadata": {},
   "outputs": [
    {
     "data": {
      "image/png": "[encoded data removed]",
      "text/plain": [
       "<Figure size 1440x1080 with 1 Axes>"
      ]
     },
     "metadata": {
      "needs_background": "light"
     },
     "output_type": "display_data"
    }
   ],
   "source": [
    "# PLOT THE RESULTS - TO DO: FIGURE OUT WHY LINE DOESN'T SHOW UP\n",
    "plt.rcParams['figure.figsize'] = [20, 15]\n",
    "\n",
    "result_model = np.log(data[data['ID']==4].PopBio) + fit_model_NLLS.residual # These points lay on top of the theoretical fitted curve\n",
    "plt.plot(data[data['ID']==4].Time, result_model, 'y.', markersize = 15, label = 'Linear')\n",
    "#Get a smooth curve by plugging a time vector to the fitted model\n",
    "x_vec = np.linspace(0,24,1000)\n",
    "log_y_vec = np.ones(len(x_vec))#Create a vector of ones.\n",
    "residual_smooth_model = residuals_model(fit_model_NLLS.params, x_vec, log_y_vec)\n",
    "plt.plot(x_vec, residual_smooth_model + log_y_vec, 'orange', linestyle = '--', linewidth = 1)\n",
    "\n",
    "#Plot data points\n",
    "plt.plot(data[data['ID']==4].Time, np.log(data[data['ID']==4].PopBio), 'r+', markersize = 15, markeredgewidth = 2, label = 'Data')\n",
    "\n",
    "#Plot legend\n",
    "plt.legend(fontsize = 20)\n",
    "plt.xlabel('Time', fontsize = 20)\n",
    "plt.ylabel('PopBio', fontsize = 20)\n",
    "plt.ticklabel_format(style='scientific', scilimits=[0,3])"
   ]
  },
  {
   "cell_type": "code",
   "execution_count": null,
   "id": "86e46978",
   "metadata": {},
   "outputs": [],
   "source": [
    "# could be nice to make CIs\n",
    "# --> but: only useful to do quick (not robust) test of whether coefficient estimates of the same model coefficient obtained from diff popns (samples) are significantly diff from each other\n",
    "## --> if CIs don't overlap = significantly diff\n",
    "## --> BUT: if CIs overlap = could still be significantly diff"
   ]
  },
  {
   "cell_type": "code",
   "execution_count": null,
   "id": "7d4a1057",
   "metadata": {},
   "outputs": [],
   "source": []
  },
  {
   "cell_type": "code",
   "execution_count": null,
   "id": "4af8e3c0",
   "metadata": {},
   "outputs": [],
   "source": []
  },
  {
   "cell_type": "code",
   "execution_count": null,
   "id": "a9437812",
   "metadata": {},
   "outputs": [],
   "source": []
  },
  {
   "cell_type": "code",
   "execution_count": null,
   "id": "c522e497",
   "metadata": {},
   "outputs": [],
   "source": []
  },
  {
   "cell_type": "code",
   "execution_count": null,
   "id": "0e66b1ae",
   "metadata": {},
   "outputs": [],
   "source": []
  },
  {
   "cell_type": "code",
   "execution_count": null,
   "id": "2fd08b6d",
   "metadata": {},
   "outputs": [],
   "source": []
  },
  {
   "cell_type": "code",
   "execution_count": null,
   "id": "6e3822cf",
   "metadata": {},
   "outputs": [],
   "source": [
    "# compare models using AIC"
   ]
  },
  {
   "cell_type": "code",
   "execution_count": null,
   "id": "c0a36808",
   "metadata": {},
   "outputs": [],
   "source": []
  },
  {
   "cell_type": "code",
   "execution_count": null,
   "id": "ed1b73b7",
   "metadata": {},
   "outputs": [],
   "source": []
  },
  {
   "cell_type": "code",
   "execution_count": null,
   "id": "641e0ce3",
   "metadata": {},
   "outputs": [],
   "source": [
    "# do the same with logistic model\n",
    "\n",
    "##- this one can show deviations from the data: bc assumes that the popn is growing right from the start whereas in reality the popn takes a while to grow truly exponentially\n",
    " ##- bc bacteria take a while to acclimate to fresh growth media/new resource/environ they encounter (= lag phase)\n"
   ]
  },
  {
   "cell_type": "code",
   "execution_count": null,
   "id": "17e8830f",
   "metadata": {},
   "outputs": [],
   "source": []
  },
  {
   "cell_type": "code",
   "execution_count": null,
   "id": "f2a02bea",
   "metadata": {},
   "outputs": [],
   "source": []
  },
  {
   "cell_type": "code",
   "execution_count": null,
   "id": "37768ae2",
   "metadata": {},
   "outputs": [],
   "source": []
  },
  {
   "cell_type": "code",
   "execution_count": null,
   "id": "eb434c33",
   "metadata": {},
   "outputs": [],
   "source": [
    "# Gompertz model\n",
    "\n",
    "##- captures the lag phase (unlike logistic model)\n",
    "\n",
    "\n",
    "# log(Nt) = N0 + (Nmax - N0)e^-e^(rmax)(exp(1))((tlag - t)/(Nmax - No)(log10))+1)\n",
    "    # tlag = x-axis intercept\n",
    "    # log\n",
    "\n",
    "# in R:\n",
    "# gompertz_model <- function(t, r_max, K, N_0, t_lag){ # Modified gompertz growth model (Zwietering 1990)\n",
    " #return(N_0 + (K - N_0) * exp(-exp(r_max * exp(1) * (t_lag - t)/((K - N_0) * log(10)) + 1)))\n",
    "#} \n",
    "    "
   ]
  },
  {
   "cell_type": "code",
   "execution_count": null,
   "id": "018c624c",
   "metadata": {},
   "outputs": [],
   "source": [
    "# how to systematically choose starting values:\n",
    "\n",
    "# rmax = search for steepest slope of the growth curve\n",
    "# starting value of tlag: intersect the fitted line with the x-axis\n",
    "# starting value for asymptote K: highest data (abundance) value in the dataset\n",
    "\n",
    "\n",
    "# best is to write a separate function that calculates starting values for the model parameters"
   ]
  },
  {
   "cell_type": "code",
   "execution_count": null,
   "id": "df41b4ac",
   "metadata": {},
   "outputs": [],
   "source": [
    "# derive starting values using the actual data:\n",
    "\n",
    "#N_0_start <- min(data$LogN) # lowest population size, note log scale\n",
    "#K_start <- max(data$LogN) # highest population size, note log scale\n",
    "#r_max_start <- 0.62 # use our previous estimate from the OLS fitting from above\n",
    "#t_lag_start <- data$Time[which.max(diff(diff(data$LogN)))] # find last timepoint of lag phase"
   ]
  },
  {
   "cell_type": "code",
   "execution_count": null,
   "id": "c93b63a2",
   "metadata": {},
   "outputs": [],
   "source": []
  },
  {
   "cell_type": "code",
   "execution_count": null,
   "id": "7f87cd57",
   "metadata": {},
   "outputs": [],
   "source": []
  },
  {
   "cell_type": "code",
   "execution_count": null,
   "id": "b5153470",
   "metadata": {},
   "outputs": [],
   "source": []
  },
  {
   "cell_type": "code",
   "execution_count": null,
   "id": "184ff6ff",
   "metadata": {},
   "outputs": [],
   "source": []
  },
  {
   "cell_type": "code",
   "execution_count": null,
   "id": "3981183c",
   "metadata": {},
   "outputs": [],
   "source": []
  },
  {
   "cell_type": "code",
   "execution_count": null,
   "id": "c8ec230c",
   "metadata": {},
   "outputs": [],
   "source": []
  },
  {
   "cell_type": "code",
   "execution_count": null,
   "id": "6777ecb9",
   "metadata": {},
   "outputs": [],
   "source": []
  },
  {
   "cell_type": "code",
   "execution_count": null,
   "id": "2a8d4298",
   "metadata": {},
   "outputs": [],
   "source": [
    "# DIAGNOSTICS\n",
    "\n",
    "##-- should probably check diagnostics of the model NLLS fit\n",
    "##-- bc it carries 3 assumptions:\n",
    "    #- no measurement error in the x-variable\n",
    "    #- data have constant normal variance: errors in y-axis homogeneously distributed over the x-axis range\n",
    "    #- the measurement/observation errors are normally distributed (gaussian)\n",
    "##-- so should at least plot the residuals of a fitted NLLS model\n",
    "    #--> check they're normally distributed!"
   ]
  },
  {
   "cell_type": "code",
   "execution_count": null,
   "id": "a38bf79c",
   "metadata": {},
   "outputs": [],
   "source": []
  },
  {
   "cell_type": "code",
   "execution_count": null,
   "id": "74222dc8",
   "metadata": {},
   "outputs": [],
   "source": []
  },
  {
   "cell_type": "code",
   "execution_count": null,
   "id": "be24c5dd",
   "metadata": {},
   "outputs": [],
   "source": []
  },
  {
   "cell_type": "code",
   "execution_count": null,
   "id": "6bba9f71",
   "metadata": {},
   "outputs": [],
   "source": []
  },
  {
   "cell_type": "code",
   "execution_count": null,
   "id": "5f695618",
   "metadata": {},
   "outputs": [],
   "source": []
  },
  {
   "cell_type": "code",
   "execution_count": null,
   "id": "3f87478b",
   "metadata": {},
   "outputs": [],
   "source": [
    "## ALSO MIGHT HAVE ISSUES WITH DATA BEING THE WRONG WAY ROUND SOMETIMES (I.E. NOT STARTING WITH THE LOWEST OR SOMETHING)\n",
    "\n",
    "## DISCUSS RMAX WITH SOMEONE"
   ]
  },
  {
   "cell_type": "code",
   "execution_count": null,
   "id": "fe2a14e1",
   "metadata": {},
   "outputs": [],
   "source": []
  },
  {
   "cell_type": "code",
   "execution_count": null,
   "id": "d91bae6b",
   "metadata": {},
   "outputs": [],
   "source": []
  },
  {
   "cell_type": "code",
   "execution_count": null,
   "id": "0dc95991",
   "metadata": {},
   "outputs": [],
   "source": []
  },
  {
   "cell_type": "code",
   "execution_count": null,
   "id": "d6ebf5c9",
   "metadata": {},
   "outputs": [],
   "source": []
  },
  {
   "cell_type": "code",
   "execution_count": null,
   "id": "7bcd736f",
   "metadata": {},
   "outputs": [],
   "source": []
  },
  {
   "cell_type": "code",
   "execution_count": null,
   "id": "93acb2b4",
   "metadata": {},
   "outputs": [],
   "source": []
  },
  {
   "cell_type": "code",
   "execution_count": null,
   "id": "9c60d2a3",
   "metadata": {},
   "outputs": [],
   "source": []
  },
  {
   "cell_type": "code",
   "execution_count": null,
   "id": "0365c5f3",
   "metadata": {},
   "outputs": [],
   "source": []
  },
  {
   "cell_type": "code",
   "execution_count": null,
   "id": "230f3c85",
   "metadata": {},
   "outputs": [],
   "source": []
  },
  {
   "cell_type": "code",
   "execution_count": null,
   "id": "13d51334",
   "metadata": {},
   "outputs": [],
   "source": []
  },
  {
   "cell_type": "code",
   "execution_count": null,
   "id": "9a6ec8ef",
   "metadata": {},
   "outputs": [],
   "source": []
  },
  {
   "cell_type": "code",
   "execution_count": null,
   "id": "2d8da6f9",
   "metadata": {},
   "outputs": [],
   "source": []
  },
  {
   "cell_type": "code",
   "execution_count": null,
   "id": "4348ad69",
   "metadata": {},
   "outputs": [],
   "source": []
  },
  {
   "cell_type": "code",
   "execution_count": null,
   "id": "ec04a470",
   "metadata": {},
   "outputs": [],
   "source": []
  },
  {
   "cell_type": "code",
   "execution_count": null,
   "id": "71a87f0e",
   "metadata": {},
   "outputs": [],
   "source": []
  },
  {
   "cell_type": "code",
   "execution_count": 79,
   "id": "8f73c458",
   "metadata": {},
   "outputs": [],
   "source": []
  },
  {
   "cell_type": "code",
   "execution_count": null,
   "id": "3035c384",
   "metadata": {},
   "outputs": [],
   "source": []
  },
  {
   "cell_type": "code",
   "execution_count": null,
   "id": "a108caef",
   "metadata": {},
   "outputs": [],
   "source": []
  },
  {
   "cell_type": "code",
   "execution_count": null,
   "id": "8c8ed270",
   "metadata": {},
   "outputs": [],
   "source": []
  },
  {
   "cell_type": "code",
   "execution_count": null,
   "id": "742b4fd9",
   "metadata": {},
   "outputs": [],
   "source": []
  }
 ],
 "metadata": {
  "kernelspec": {
   "display_name": "Python 3 (ipykernel)",
   "language": "python",
   "name": "python3"
  },
  "language_info": {
   "codemirror_mode": {
    "name": "ipython",
    "version": 3
   },
   "file_extension": ".py",
   "mimetype": "text/x-python",
   "name": "python",
   "nbconvert_exporter": "python",
   "pygments_lexer": "ipython3",
   "version": "3.8.10"
  }
 },
 "nbformat": 4,
 "nbformat_minor": 5
}
